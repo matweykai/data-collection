{
 "cells": [
  {
   "cell_type": "code",
   "execution_count": 1,
   "id": "72638461-9e84-4d36-b8be-98d5d9d7cb0f",
   "metadata": {},
   "outputs": [],
   "source": [
    "# !pip install fiftyone"
   ]
  },
  {
   "cell_type": "code",
   "execution_count": 2,
   "id": "abadbd1f-4ec0-4ea0-940e-2e5409bfc99d",
   "metadata": {},
   "outputs": [],
   "source": [
    "import os\n",
    "import re\n",
    "import shutil\n",
    "import fiftyone as fo\n",
    "from pathlib import Path\n",
    "\n",
    "from tqdm import tqdm"
   ]
  },
  {
   "cell_type": "markdown",
   "id": "6b9e618d-6ad6-4579-b57c-80b903432f7a",
   "metadata": {},
   "source": [
    "# Convert Stanford Dogs Dataset"
   ]
  },
  {
   "cell_type": "code",
   "execution_count": 3,
   "id": "e6d39a2b-2d5b-489d-9876-d7a1b703dd2f",
   "metadata": {},
   "outputs": [],
   "source": [
    "stanford_root = Path('../raw_data/stanford-dogs-dataset/')\n",
    "target_dataset_path = Path('../data/stanford-dogs-dataset/')"
   ]
  },
  {
   "cell_type": "code",
   "execution_count": 4,
   "id": "ae611073-bebf-43f2-acb7-e43d16b9efd4",
   "metadata": {},
   "outputs": [
    {
     "name": "stdout",
     "output_type": "stream",
     "text": [
      "Copy images\n"
     ]
    },
    {
     "name": "stderr",
     "output_type": "stream",
     "text": [
      "20580it [00:06, 3294.24it/s]\n"
     ]
    }
   ],
   "source": [
    "print('Copy images')\n",
    "target_images_dir = target_dataset_path / 'images'\n",
    "src_images_dir = stanford_root / 'images'\n",
    "\n",
    "os.makedirs(target_images_dir, exist_ok=True)\n",
    "\n",
    "for temp_path in tqdm(src_images_dir.rglob('*.jpg')):\n",
    "    dst_file_path = target_images_dir / temp_path.name\n",
    "    shutil.copy(temp_path, dst_file_path)"
   ]
  },
  {
   "cell_type": "code",
   "execution_count": 5,
   "id": "93c8e93f-e238-4215-a346-77173c5efbec",
   "metadata": {},
   "outputs": [
    {
     "name": "stdout",
     "output_type": "stream",
     "text": [
      "Copy labels\n"
     ]
    },
    {
     "name": "stderr",
     "output_type": "stream",
     "text": [
      "20703it [00:04, 4916.86it/s]\n"
     ]
    }
   ],
   "source": [
    "print('Copy labels')\n",
    "target_labels_dir = target_dataset_path / 'labels'\n",
    "src_labels_dir = stanford_root / 'annotations'\n",
    "\n",
    "pattern = \"n[0-9]{8}_[0-9]+\"\n",
    "\n",
    "os.makedirs(target_labels_dir, exist_ok=True)\n",
    "\n",
    "for temp_path in tqdm(src_labels_dir.rglob('*')):\n",
    "    if temp_path.name.startswith('n') and re.match(pattern, temp_path.name):\n",
    "        dst_file_path = target_labels_dir / (temp_path.name + '.xml')\n",
    "        shutil.copy(temp_path, dst_file_path)"
   ]
  },
  {
   "cell_type": "code",
   "execution_count": 6,
   "id": "01d165c3-bd29-4758-8632-47e87b1ef749",
   "metadata": {},
   "outputs": [
    {
     "name": "stdout",
     "output_type": "stream",
     "text": [
      " 100% |█████████████| 20580/20580 [14.1s elapsed, 0s remaining, 1.5K samples/s]      \n"
     ]
    }
   ],
   "source": [
    "# Load PascalVOC dataset\n",
    "stanford_dogs_dataset = fo.Dataset.from_dir(\n",
    "    dataset_type=fo.types.VOCDetectionDataset,\n",
    "    labels_path=target_labels_dir,\n",
    "    data_path=target_images_dir,\n",
    "    label_field=\"detections\",\n",
    ")"
   ]
  },
  {
   "cell_type": "code",
   "execution_count": 7,
   "id": "7ff439ae-8272-46cf-ab7d-39f668f7eb9e",
   "metadata": {},
   "outputs": [],
   "source": [
    "stanford_labels = []\n",
    "\n",
    "# Iterate through samples to collect the labels\n",
    "for sample in stanford_dogs_dataset:\n",
    "    stanford_labels.append(sample.detections.detections[0].label)"
   ]
  },
  {
   "cell_type": "code",
   "execution_count": 8,
   "id": "992685fc-7fd3-4cb0-a2d4-59a8ddcba2be",
   "metadata": {},
   "outputs": [
    {
     "name": "stdout",
     "output_type": "stream",
     "text": [
      "{'keeshond', 'bloodhound', 'curly-coated_retriever', 'Sussex_spaniel', 'chow', 'Kerry_blue_terrier', 'Boston_bull', 'miniature_poodle', 'Gordon_setter', 'Pomeranian', 'Pembroke', 'Norwegian_elkhound', 'malinois', 'dhole', 'boxer', 'whippet', 'Walker_hound', 'Bernese_mountain_dog', 'vizsla', 'flat-coated_retriever', 'Irish_terrier', 'bull_mastiff', 'Great_Dane', 'beagle', 'pug', 'golden_retriever', 'Chihuahua', 'Irish_water_spaniel', 'toy_poodle', 'standard_schnauzer', 'bluetick', 'Rhodesian_ridgeback', 'Bedlington_terrier', 'giant_schnauzer', 'German_short-haired_pointer', 'English_springer', 'Norwich_terrier', 'basenji', 'silky_terrier', 'Yorkshire_terrier', 'Leonberg', 'cairn', 'collie', 'black-and-tan_coonhound', 'Samoyed', 'Doberman', 'Great_Pyrenees', 'miniature_pinscher', 'kelpie', 'Shetland_sheepdog', 'kuvasz', 'Eskimo_dog', 'Greater_Swiss_Mountain_dog', 'English_setter', 'briard', 'Airedale', 'soft-coated_wheaten_terrier', 'dingo', 'borzoi', 'Irish_wolfhound', 'basset', 'papillon', 'Staffordshire_bullterrier', 'Siberian_husky', 'Old_English_sheepdog', 'Brabancon_griffon', 'Welsh_springer_spaniel', 'clumber', 'wire-haired_fox_terrier', 'African_hunting_dog', 'Tibetan_terrier', 'cocker_spaniel', 'Lakeland_terrier', 'Cardigan', 'Maltese_dog', 'Newfoundland', 'otterhound', 'Norfolk_terrier', 'Border_terrier', 'Australian_terrier', 'Weimaraner', 'affenpinscher', 'Brittany_spaniel', 'Bouvier_des_Flandres', 'Saluki', 'Lhasa', 'miniature_schnauzer', 'schipperke', 'Dandie_Dinmont', 'Blenheim_spaniel', 'Border_collie', 'Scottish_deerhound', 'malamute', 'Italian_greyhound', 'EntleBucher', 'toy_terrier', 'Chesapeake_Bay_retriever', 'Mexican_hairless', 'Tibetan_mastiff', 'Labrador_retriever', 'redbone', 'Ibizan_hound', 'Scotch_terrier', 'West_Highland_white_terrier', 'Irish_setter', 'German_shepherd', 'Appenzeller', 'Sealyham_terrier', 'komondor', 'Pekinese', 'French_bulldog', 'Japanese_spaniel', 'Shih-Tzu', 'American_Staffordshire_terrier', 'English_foxhound', 'Saint_Bernard', 'groenendael', 'standard_poodle', 'Rottweiler', 'Afghan_hound'}\n",
      "120\n"
     ]
    }
   ],
   "source": [
    "stanford_unique_labels = set(stanford_labels)\n",
    "print(stanford_unique_labels)\n",
    "print(len(stanford_unique_labels))"
   ]
  },
  {
   "cell_type": "markdown",
   "id": "a29a10e4-bf82-4e4d-8d0e-610404782739",
   "metadata": {},
   "source": [
    "# Convert computer-science-gtrnn/dog-breeds"
   ]
  },
  {
   "cell_type": "code",
   "execution_count": 9,
   "id": "e5068c0f-99c4-419e-800c-6871032d7b16",
   "metadata": {},
   "outputs": [
    {
     "name": "stdout",
     "output_type": "stream",
     "text": [
      " 100% |███████████████| 9949/9949 [6.2s elapsed, 0s remaining, 1.6K samples/s]      \n"
     ]
    }
   ],
   "source": [
    "roboflow_dataset = fo.Dataset.from_dir(\n",
    "    dataset_type=fo.types.COCODetectionDataset,\n",
    "    labels_path='../raw_data/big-dog-breeds-ds/train/_annotations.coco.json',\n",
    "    data_path='../raw_data/big-dog-breeds-ds/train/',\n",
    ")"
   ]
  },
  {
   "cell_type": "code",
   "execution_count": 10,
   "id": "857c04bb-b7bb-46d4-93a9-e80a480a2dd4",
   "metadata": {},
   "outputs": [],
   "source": [
    "roboflow_labels = []\n",
    "\n",
    "# Iterate through samples to collect the labels\n",
    "for sample in roboflow_dataset.iter_samples():\n",
    "    if sample.detections:\n",
    "        roboflow_labels.append(sample.detections.detections[0].label)"
   ]
  },
  {
   "cell_type": "code",
   "execution_count": 11,
   "id": "68880997-c708-45cd-ba18-0cb9a2697da6",
   "metadata": {},
   "outputs": [
    {
     "name": "stdout",
     "output_type": "stream",
     "text": [
      "{'English Springer Spaniel', 'American Cocker Spaniel', 'Brittany', 'Shih Tzu', 'Australian Silky Terrier', 'Irish Wolfhound', 'Collie', 'Italian Greyhound', 'Iris Terrier', 'Golden Retriever', 'Pomeranian', 'Clamber spaniel', 'Bullmanstiff', 'Curly coated retriever', 'Rottwelier', 'Irish setter', 'Basset Fauve De Bretagne', 'Australian Cattle', 'Australian Terrier', 'French bulldog', 'rhodesian ridgeback', 'pug', 'Chinese Crested', 'puli', 'Chihuahua', 'saint bernard', 'Schipperke', 'Bedlington Terrier', 'Gordon Setter', 'Sealyham terrier', 'english toy terrier', 'Boston Terrier', 'German Wirehaired Pointer', 'Griffon Bruxellois', 'Afghan Hound', 'Samoyed', 'Bichon Frise', 'English Setter', 'Dandie Dinmont Terrier', 'Belgian Laekenois', 'Bull Terrier', 'Dalmatian', 'saluki', 'Bloodhound', 'Texas heeler', 'Shetland sheepdog', 'finnish spitz', 'Boxer', 'German Short-Haired Pointer', 'Dachshund', 'Greyhound', 'Affenpinscher', 'Borzoi', 'Schnauzer', 'Basenji', 'Cairn Terrier', 'Bearded Collie', 'Flat Coated Retriever', 'Keeshond', 'Labrador', 'Fox terrier', 'Fox hound', 'Beagle', 'German Sheperd', 'Australian Kelpie', 'Lhasa Apso', 'Alaskan Malamute', 'British Bulldog', 'Douge De Bordeaux', 'Bernese Mountain', 'Cocker spaniel', 'Yorkipoo', 'Border Terrier', 'Basset Hound', 'Poodle', 'Cavalier King Charles Spaniel', 'King Charles Spaniel', 'Border Collie', 'pyrenean mountain dog', 'Lowchen', 'American Akita', 'portuguese water dog', 'Chesapeake Bay Retriever', 'Lakeland Terrier', 'Shar pei', 'Jack Russell', 'Japanese Spitz', 'Briard', 'Chowchow', 'Irish Water Spaniel', 'Hungarian Vizsla', 'Australian Shepherd', 'dobermann', 'Deerhound', 'Airedale Terrier', 'Great Dane', 'Belgian Shepherd', 'Bouvier De Flandres', 'Field Spaniel', 'Scottish Terrier'}\n",
      "100\n"
     ]
    }
   ],
   "source": [
    "roboflow_unique_labels = set(roboflow_labels)\n",
    "print(roboflow_unique_labels)\n",
    "print(len(roboflow_unique_labels))"
   ]
  },
  {
   "cell_type": "markdown",
   "id": "11c288a3-b483-405a-a5aa-d3be4dcbbbbf",
   "metadata": {},
   "source": [
    "## Merge datasets and export"
   ]
  },
  {
   "cell_type": "code",
   "execution_count": 12,
   "id": "19948862-a4e1-49a6-8b41-20341b553ae4",
   "metadata": {},
   "outputs": [],
   "source": [
    "merged_dataset_name = \"merged_dataset\"\n",
    "\n",
    "if fo.dataset_exists(merged_dataset_name):\n",
    "    fo.delete_datasets(merged_dataset_name)\n",
    "\n",
    "merged_dataset = fo.Dataset(merged_dataset_name)\n",
    "\n",
    "merged_dataset.merge_samples(roboflow_dataset)\n",
    "merged_dataset.merge_samples(stanford_dogs_dataset)"
   ]
  },
  {
   "cell_type": "code",
   "execution_count": 13,
   "id": "65bd3b11-c0b2-4cf1-8ff6-55651a30ba23",
   "metadata": {},
   "outputs": [],
   "source": [
    "all_labels = []\n",
    "\n",
    "# Iterate through samples to collect the labels\n",
    "for sample in merged_dataset.iter_samples():\n",
    "    # if sample.ground_truth:\n",
    "    #     all_labels.append(sample.ground_truth.detections[0].label)\n",
    "    if sample.detections:\n",
    "        all_labels.append(sample.detections.detections[0].label)"
   ]
  },
  {
   "cell_type": "code",
   "execution_count": 14,
   "id": "ca3ca795-8245-4218-bcd2-a74eb01e5f76",
   "metadata": {},
   "outputs": [
    {
     "name": "stdout",
     "output_type": "stream",
     "text": [
      "{'keeshond', 'bloodhound', 'curly-coated_retriever', 'English Springer Spaniel', 'American Cocker Spaniel', 'Brittany', 'Shih Tzu', 'Australian Silky Terrier', 'Sussex_spaniel', 'chow', 'Irish Wolfhound', 'Collie', 'Italian Greyhound', 'Kerry_blue_terrier', 'Iris Terrier', 'Boston_bull', 'miniature_poodle', 'Gordon_setter', 'Golden Retriever', 'Pomeranian', 'Clamber spaniel', 'Norwegian_elkhound', 'malinois', 'Pembroke', 'Bullmanstiff', 'dhole', 'Curly coated retriever', 'boxer', 'Rottwelier', 'Irish setter', 'Basset Fauve De Bretagne', 'whippet', 'Australian Cattle', 'Walker_hound', 'Australian Terrier', 'French bulldog', 'Bernese_mountain_dog', 'rhodesian ridgeback', 'flat-coated_retriever', 'vizsla', 'pug', 'Irish_terrier', 'Chinese Crested', 'puli', 'beagle', 'bull_mastiff', 'golden_retriever', 'Great_Dane', 'Chihuahua', 'Irish_water_spaniel', 'toy_poodle', 'saint bernard', 'standard_schnauzer', 'Schipperke', 'Bedlington Terrier', 'Gordon Setter', 'bluetick', 'Sealyham terrier', 'english toy terrier', 'Boston Terrier', 'Rhodesian_ridgeback', 'German Wirehaired Pointer', 'Bedlington_terrier', 'giant_schnauzer', 'German_short-haired_pointer', 'English_springer', 'Norwich_terrier', 'basenji', 'silky_terrier', 'Yorkshire_terrier', 'Griffon Bruxellois', 'Leonberg', 'cairn', 'collie', 'Afghan Hound', 'Samoyed', 'black-and-tan_coonhound', 'Doberman', 'Bichon Frise', 'Great_Pyrenees', 'miniature_pinscher', 'kelpie', 'Shetland_sheepdog', 'English Setter', 'Dandie Dinmont Terrier', 'Belgian Laekenois', 'kuvasz', 'Bull Terrier', 'Dalmatian', 'Eskimo_dog', 'saluki', 'Greater_Swiss_Mountain_dog', 'Bloodhound', 'English_setter', 'briard', 'Texas heeler', 'Shetland sheepdog', 'Airedale', 'soft-coated_wheaten_terrier', 'dingo', 'finnish spitz', 'Boxer', 'borzoi', 'Irish_wolfhound', 'German Short-Haired Pointer', 'basset', 'Dachshund', 'papillon', 'Staffordshire_bullterrier', 'Siberian_husky', 'Old_English_sheepdog', 'Greyhound', 'Affenpinscher', 'Brabancon_griffon', 'Welsh_springer_spaniel', 'Borzoi', 'Schnauzer', 'clumber', 'wire-haired_fox_terrier', 'Basenji', 'Cairn Terrier', 'African_hunting_dog', 'Tibetan_terrier', 'Bearded Collie', 'cocker_spaniel', 'Lakeland_terrier', 'Flat Coated Retriever', 'Cardigan', 'Keeshond', 'Labrador', 'Maltese_dog', 'Newfoundland', 'Fox terrier', 'Fox hound', 'otterhound', 'Norfolk_terrier', 'Border_terrier', 'Australian_terrier', 'Beagle', 'Weimaraner', 'affenpinscher', 'German Sheperd', 'Australian Kelpie', 'Lhasa Apso', 'Brittany_spaniel', 'Alaskan Malamute', 'British Bulldog', 'Douge De Bordeaux', 'Bouvier_des_Flandres', 'Bernese Mountain', 'Cocker spaniel', 'Yorkipoo', 'Border Terrier', 'Basset Hound', 'Poodle', 'Saluki', 'Lhasa', 'miniature_schnauzer', 'schipperke', 'Dandie_Dinmont', 'Blenheim_spaniel', 'Cavalier King Charles Spaniel', 'King Charles Spaniel', 'Border_collie', 'Border Collie', 'Scottish_deerhound', 'pyrenean mountain dog', 'Lowchen', 'malamute', 'Italian_greyhound', 'EntleBucher', 'toy_terrier', 'American Akita', 'portuguese water dog', 'Chesapeake Bay Retriever', 'Lakeland Terrier', 'Shar pei', 'Chesapeake_Bay_retriever', 'Mexican_hairless', 'Tibetan_mastiff', 'Labrador_retriever', 'redbone', 'Jack Russell', 'Ibizan_hound', 'Scotch_terrier', 'Japanese Spitz', 'West_Highland_white_terrier', 'Briard', 'Irish_setter', 'German_shepherd', 'Chowchow', 'Irish Water Spaniel', 'Hungarian Vizsla', 'Australian Shepherd', 'Appenzeller', 'Sealyham_terrier', 'komondor', 'Pekinese', 'dobermann', 'Deerhound', 'Japanese_spaniel', 'Shih-Tzu', 'French_bulldog', 'American_Staffordshire_terrier', 'Airedale Terrier', 'Great Dane', 'Belgian Shepherd', 'English_foxhound', 'Saint_Bernard', 'groenendael', 'standard_poodle', 'Rottweiler', 'Bouvier De Flandres', 'Afghan_hound', 'Field Spaniel', 'Scottish Terrier'}\n",
      "216\n"
     ]
    }
   ],
   "source": [
    "unique_labels = set(all_labels)\n",
    "print(unique_labels)\n",
    "print(len(unique_labels))"
   ]
  },
  {
   "cell_type": "code",
   "execution_count": 15,
   "id": "4dda6b1a-10df-4235-bb80-15a0e5b43ca9",
   "metadata": {},
   "outputs": [],
   "source": [
    "assert len(stanford_unique_labels.intersection(unique_labels)) == len(stanford_unique_labels)\n",
    "assert len(roboflow_unique_labels.intersection(unique_labels)) == len(roboflow_unique_labels)"
   ]
  },
  {
   "cell_type": "markdown",
   "id": "16aabe88-d798-4684-a3b1-9aa7f76c62af",
   "metadata": {},
   "source": [
    "## Merge datasets with scrapped data"
   ]
  },
  {
   "cell_type": "code",
   "execution_count": 16,
   "id": "f2e673b3-fd3e-465c-be41-334ce7199971",
   "metadata": {},
   "outputs": [],
   "source": [
    "scrapped_dataset_name = 'scrapped_dataset'\n",
    "\n",
    "if fo.dataset_exists(scrapped_dataset_name):\n",
    "    fo.delete_datasets(scrapped_dataset_name)\n",
    "\n",
    "scrapped_dataset = merged_dataset.clone(scrapped_dataset_name)\n",
    "scrapped_dataset.clear()"
   ]
  },
  {
   "cell_type": "code",
   "execution_count": 17,
   "id": "f53e63b8-eea6-4966-8e55-2a1110a1a120",
   "metadata": {},
   "outputs": [],
   "source": [
    "scrapped_images_dir = Path('../data/raw_scrapped_data/')"
   ]
  },
  {
   "cell_type": "code",
   "execution_count": 18,
   "id": "2683056f-82f9-44c5-b1a7-ee5ee52357a6",
   "metadata": {},
   "outputs": [],
   "source": [
    "for img_path in scrapped_images_dir.iterdir():\n",
    "    sample = fo.Sample(img_path)\n",
    "    scrapped_dataset.add_sample(sample)"
   ]
  },
  {
   "cell_type": "code",
   "execution_count": 19,
   "id": "42207f9a-f964-4cae-bfe0-33da782f66eb",
   "metadata": {},
   "outputs": [],
   "source": [
    "merged_dataset.merge_samples(scrapped_dataset)"
   ]
  },
  {
   "cell_type": "code",
   "execution_count": 20,
   "id": "eca356db-688c-44bc-ab1c-3c503340a7b0",
   "metadata": {},
   "outputs": [
    {
     "name": "stdout",
     "output_type": "stream",
     "text": [
      "Directory '../data/opensource-dataset' already exists; export will be merged with existing files\n",
      " 100% |█████████████| 33995/33995 [25.7s elapsed, 0s remaining, 599.8 samples/s]      \n"
     ]
    }
   ],
   "source": [
    "merged_dataset.export(\n",
    "    export_dir=\"../data/opensource-dataset\",\n",
    "    dataset_type=fo.types.COCODetectionDataset,\n",
    ")"
   ]
  },
  {
   "cell_type": "markdown",
   "id": "72b71671-2dd5-4ea4-9e89-37ed9c9a85f6",
   "metadata": {},
   "source": [
    "## Clean space"
   ]
  },
  {
   "cell_type": "code",
   "execution_count": 21,
   "id": "b817ccbd-24ea-444d-95db-77788773ca42",
   "metadata": {},
   "outputs": [
    {
     "name": "stdout",
     "output_type": "stream",
     "text": [
      "Remove temp dirs\n"
     ]
    }
   ],
   "source": [
    "print('Remove temp dirs')\n",
    "\n",
    "shutil.rmtree(target_labels_dir.parent)"
   ]
  }
 ],
 "metadata": {
  "kernelspec": {
   "display_name": "Python 3 (ipykernel)",
   "language": "python",
   "name": "python3"
  },
  "language_info": {
   "codemirror_mode": {
    "name": "ipython",
    "version": 3
   },
   "file_extension": ".py",
   "mimetype": "text/x-python",
   "name": "python",
   "nbconvert_exporter": "python",
   "pygments_lexer": "ipython3",
   "version": "3.10.2"
  }
 },
 "nbformat": 4,
 "nbformat_minor": 5
}
