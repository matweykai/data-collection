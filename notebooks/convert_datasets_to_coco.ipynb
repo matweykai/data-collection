{
 "cells": [
  {
   "cell_type": "code",
   "execution_count": 1,
   "id": "72638461-9e84-4d36-b8be-98d5d9d7cb0f",
   "metadata": {},
   "outputs": [],
   "source": [
    "# !pip install fiftyone"
   ]
  },
  {
   "cell_type": "code",
   "execution_count": 2,
   "id": "abadbd1f-4ec0-4ea0-940e-2e5409bfc99d",
   "metadata": {},
   "outputs": [],
   "source": [
    "import os\n",
    "import re\n",
    "import shutil\n",
    "from pathlib import Path\n",
    "\n",
    "from tqdm import tqdm"
   ]
  },
  {
   "cell_type": "markdown",
   "id": "6b9e618d-6ad6-4579-b57c-80b903432f7a",
   "metadata": {},
   "source": [
    "# Convert Stanford Dogs Dataset"
   ]
  },
  {
   "cell_type": "code",
   "execution_count": 3,
   "id": "e6d39a2b-2d5b-489d-9876-d7a1b703dd2f",
   "metadata": {},
   "outputs": [],
   "source": [
    "stanford_root = Path('../raw_data/stanford-dogs-dataset/')\n",
    "target_dataset_path = Path('../data/stanford-dogs-dataset/')"
   ]
  },
  {
   "cell_type": "code",
   "execution_count": 4,
   "id": "ae611073-bebf-43f2-acb7-e43d16b9efd4",
   "metadata": {},
   "outputs": [
    {
     "name": "stdout",
     "output_type": "stream",
     "text": [
      "Copy images\n"
     ]
    },
    {
     "name": "stderr",
     "output_type": "stream",
     "text": [
      "20580it [00:06, 3050.34it/s]\n"
     ]
    }
   ],
   "source": [
    "print('Copy images')\n",
    "target_images_dir = target_dataset_path / 'images'\n",
    "src_images_dir = stanford_root / 'images'\n",
    "\n",
    "os.makedirs(target_images_dir, exist_ok=True)\n",
    "\n",
    "for temp_path in tqdm(src_images_dir.rglob('*.jpg')):\n",
    "    dst_file_path = target_images_dir / temp_path.name\n",
    "    shutil.copy(temp_path, dst_file_path)"
   ]
  },
  {
   "cell_type": "code",
   "execution_count": 5,
   "id": "93c8e93f-e238-4215-a346-77173c5efbec",
   "metadata": {},
   "outputs": [
    {
     "name": "stdout",
     "output_type": "stream",
     "text": [
      "Copy labels\n"
     ]
    },
    {
     "name": "stderr",
     "output_type": "stream",
     "text": [
      "20703it [00:04, 4738.98it/s]\n"
     ]
    }
   ],
   "source": [
    "print('Copy labels')\n",
    "target_labels_dir = target_dataset_path / 'labels'\n",
    "src_labels_dir = stanford_root / 'annotations'\n",
    "\n",
    "pattern = \"n[0-9]{8}_[0-9]+\"\n",
    "\n",
    "os.makedirs(target_labels_dir, exist_ok=True)\n",
    "\n",
    "for temp_path in tqdm(src_labels_dir.rglob('*')):\n",
    "    if temp_path.name.startswith('n') and re.match(pattern, temp_path.name):\n",
    "        dst_file_path = target_labels_dir / (temp_path.name + '.xml')\n",
    "        shutil.copy(temp_path, dst_file_path)"
   ]
  },
  {
   "cell_type": "code",
   "execution_count": 6,
   "id": "01d165c3-bd29-4758-8632-47e87b1ef749",
   "metadata": {},
   "outputs": [
    {
     "name": "stdout",
     "output_type": "stream",
     "text": [
      " 100% |█████████████| 20580/20580 [14.1s elapsed, 0s remaining, 1.5K samples/s]      \n"
     ]
    }
   ],
   "source": [
    "import fiftyone as fo\n",
    "\n",
    "# Load PascalVOC dataset\n",
    "stanford_dogs_dataset = fo.Dataset.from_dir(\n",
    "    dataset_type=fo.types.VOCDetectionDataset,\n",
    "    labels_path=target_labels_dir,\n",
    "    data_path=target_images_dir,\n",
    "    label_field=\"detections\",\n",
    ")"
   ]
  },
  {
   "cell_type": "code",
   "execution_count": 7,
   "id": "7ff439ae-8272-46cf-ab7d-39f668f7eb9e",
   "metadata": {},
   "outputs": [],
   "source": [
    "stanford_labels = []\n",
    "\n",
    "# Iterate through samples to collect the labels\n",
    "for sample in stanford_dogs_dataset:\n",
    "    stanford_labels.append(sample.detections.detections[0].label)"
   ]
  },
  {
   "cell_type": "code",
   "execution_count": 8,
   "id": "992685fc-7fd3-4cb0-a2d4-59a8ddcba2be",
   "metadata": {},
   "outputs": [
    {
     "name": "stdout",
     "output_type": "stream",
     "text": [
      "{'Tibetan_mastiff', 'Chesapeake_Bay_retriever', 'Airedale', 'Mexican_hairless', 'Labrador_retriever', 'bloodhound', 'Norfolk_terrier', 'kelpie', 'Siberian_husky', 'Border_terrier', 'silky_terrier', 'dhole', 'Chihuahua', 'pug', 'Irish_wolfhound', 'Yorkshire_terrier', 'vizsla', 'beagle', 'West_Highland_white_terrier', 'Lakeland_terrier', 'redbone', 'otterhound', 'Australian_terrier', 'soft-coated_wheaten_terrier', 'standard_poodle', 'Boston_bull', 'Irish_terrier', 'American_Staffordshire_terrier', 'Newfoundland', 'Brabancon_griffon', 'Eskimo_dog', 'miniature_schnauzer', 'keeshond', 'Afghan_hound', 'Maltese_dog', 'Leonberg', 'toy_terrier', 'toy_poodle', 'Dandie_Dinmont', 'Appenzeller', 'Old_English_sheepdog', 'Rottweiler', 'Saint_Bernard', 'Saluki', 'Welsh_springer_spaniel', 'komondor', 'Weimaraner', 'malamute', 'Kerry_blue_terrier', 'cocker_spaniel', 'bull_mastiff', 'malinois', 'curly-coated_retriever', 'bluetick', 'Pomeranian', 'basenji', 'Bernese_mountain_dog', 'golden_retriever', 'affenpinscher', 'Doberman', 'miniature_pinscher', 'Scotch_terrier', 'Pembroke', 'wire-haired_fox_terrier', 'English_foxhound', 'Walker_hound', 'Sealyham_terrier', 'cairn', 'Staffordshire_bullterrier', 'English_springer', 'Blenheim_spaniel', 'briard', 'Bedlington_terrier', 'Bouvier_des_Flandres', 'basset', 'groenendael', 'Lhasa', 'Norwich_terrier', 'Irish_setter', 'Rhodesian_ridgeback', 'Brittany_spaniel', 'chow', 'Border_collie', 'whippet', 'Pekinese', 'dingo', 'Norwegian_elkhound', 'Shih-Tzu', 'Great_Dane', 'black-and-tan_coonhound', 'German_shepherd', 'Japanese_spaniel', 'French_bulldog', 'miniature_poodle', 'Greater_Swiss_Mountain_dog', 'standard_schnauzer', 'papillon', 'schipperke', 'borzoi', 'Gordon_setter', 'Ibizan_hound', 'boxer', 'Italian_greyhound', 'Cardigan', 'EntleBucher', 'collie', 'Shetland_sheepdog', 'Great_Pyrenees', 'Tibetan_terrier', 'German_short-haired_pointer', 'Sussex_spaniel', 'Irish_water_spaniel', 'kuvasz', 'Scottish_deerhound', 'flat-coated_retriever', 'giant_schnauzer', 'clumber', 'Samoyed', 'English_setter', 'African_hunting_dog'}\n",
      "120\n"
     ]
    }
   ],
   "source": [
    "stanford_unique_labels = set(stanford_labels)\n",
    "print(stanford_unique_labels)\n",
    "print(len(stanford_unique_labels))"
   ]
  },
  {
   "cell_type": "markdown",
   "id": "a29a10e4-bf82-4e4d-8d0e-610404782739",
   "metadata": {},
   "source": [
    "# Convert computer-science-gtrnn/dog-breeds"
   ]
  },
  {
   "cell_type": "code",
   "execution_count": 9,
   "id": "e5068c0f-99c4-419e-800c-6871032d7b16",
   "metadata": {},
   "outputs": [
    {
     "name": "stdout",
     "output_type": "stream",
     "text": [
      " 100% |███████████████| 9949/9949 [6.2s elapsed, 0s remaining, 1.6K samples/s]      \n"
     ]
    }
   ],
   "source": [
    "roboflow_dataset = fo.Dataset.from_dir(\n",
    "    dataset_type=fo.types.COCODetectionDataset,\n",
    "    labels_path='../raw_data/big-dog-breeds-ds/train/_annotations.coco.json',\n",
    "    data_path='../raw_data/big-dog-breeds-ds/train/',\n",
    ")"
   ]
  },
  {
   "cell_type": "code",
   "execution_count": 10,
   "id": "857c04bb-b7bb-46d4-93a9-e80a480a2dd4",
   "metadata": {},
   "outputs": [],
   "source": [
    "roboflow_labels = []\n",
    "\n",
    "# Iterate through samples to collect the labels\n",
    "for sample in roboflow_dataset.iter_samples():\n",
    "    if sample.detections:\n",
    "        roboflow_labels.append(sample.detections.detections[0].label)"
   ]
  },
  {
   "cell_type": "code",
   "execution_count": 11,
   "id": "68880997-c708-45cd-ba18-0cb9a2697da6",
   "metadata": {},
   "outputs": [
    {
     "name": "stdout",
     "output_type": "stream",
     "text": [
      "{'Chesapeake Bay Retriever', 'Greyhound', 'Basenji', 'Dalmatian', 'Collie', 'saluki', 'pug', 'Chihuahua', 'Belgian Laekenois', 'Clamber spaniel', 'Flat Coated Retriever', 'Bull Terrier', 'Jack Russell', 'rhodesian ridgeback', 'portuguese water dog', 'Alaskan Malamute', 'Lhasa Apso', 'Australian Shepherd', 'Bouvier De Flandres', 'Border Collie', 'Afghan Hound', 'Cocker spaniel', 'Japanese Spitz', 'Golden Retriever', 'Cairn Terrier', 'Scottish Terrier', 'pyrenean mountain dog', 'American Cocker Spaniel', 'Iris Terrier', 'German Sheperd', 'Irish setter', 'Fox hound', 'Boston Terrier', 'Shih Tzu', 'Bullmanstiff', 'Bedlington Terrier', 'Deerhound', 'Cavalier King Charles Spaniel', 'Rottwelier', 'Bloodhound', 'Dachshund', 'English Springer Spaniel', 'Lowchen', 'Irish Water Spaniel', 'Yorkipoo', 'Airedale Terrier', 'Pomeranian', 'Basset Fauve De Bretagne', 'saint bernard', 'Hungarian Vizsla', 'Schipperke', 'Shetland sheepdog', 'Basset Hound', 'Schnauzer', 'Fox terrier', 'Bearded Collie', 'Belgian Shepherd', 'Curly coated retriever', 'Brittany', 'American Akita', 'Poodle', 'Beagle', 'Dandie Dinmont Terrier', 'Australian Cattle', 'Bernese Mountain', 'King Charles Spaniel', 'Chowchow', 'Irish Wolfhound', 'Boxer', 'Chinese Crested', 'British Bulldog', 'Sealyham terrier', 'dobermann', 'Labrador', 'Briard', 'Australian Terrier', 'Texas heeler', 'Bichon Frise', 'Affenpinscher', 'english toy terrier', 'Keeshond', 'German Wirehaired Pointer', 'Gordon Setter', 'puli', 'Borzoi', 'German Short-Haired Pointer', 'Douge De Bordeaux', 'Samoyed', 'Griffon Bruxellois', 'Shar pei', 'Australian Kelpie', 'Great Dane', 'Australian Silky Terrier', 'finnish spitz', 'English Setter', 'Border Terrier', 'Field Spaniel', 'French bulldog', 'Italian Greyhound', 'Lakeland Terrier'}\n",
      "100\n"
     ]
    }
   ],
   "source": [
    "roboflow_unique_labels = set(roboflow_labels)\n",
    "print(roboflow_unique_labels)\n",
    "print(len(roboflow_unique_labels))"
   ]
  },
  {
   "cell_type": "markdown",
   "id": "11c288a3-b483-405a-a5aa-d3be4dcbbbbf",
   "metadata": {},
   "source": [
    "## Merge datasets and export"
   ]
  },
  {
   "cell_type": "code",
   "execution_count": 12,
   "id": "19948862-a4e1-49a6-8b41-20341b553ae4",
   "metadata": {},
   "outputs": [],
   "source": [
    "merged_dataset_name = \"merged_dataset\"\n",
    "\n",
    "if fo.dataset_exists(merged_dataset_name):\n",
    "    fo.delete_datasets(merged_dataset_name)\n",
    "\n",
    "merged_dataset = fo.Dataset(merged_dataset_name)\n",
    "\n",
    "merged_dataset.merge_samples(roboflow_dataset)\n",
    "merged_dataset.merge_samples(stanford_dogs_dataset)"
   ]
  },
  {
   "cell_type": "code",
   "execution_count": 13,
   "id": "65bd3b11-c0b2-4cf1-8ff6-55651a30ba23",
   "metadata": {},
   "outputs": [],
   "source": [
    "all_labels = []\n",
    "\n",
    "# Iterate through samples to collect the labels\n",
    "for sample in merged_dataset.iter_samples():\n",
    "    # if sample.ground_truth:\n",
    "    #     all_labels.append(sample.ground_truth.detections[0].label)\n",
    "    if sample.detections:\n",
    "        all_labels.append(sample.detections.detections[0].label)"
   ]
  },
  {
   "cell_type": "code",
   "execution_count": 14,
   "id": "ca3ca795-8245-4218-bcd2-a74eb01e5f76",
   "metadata": {},
   "outputs": [
    {
     "name": "stdout",
     "output_type": "stream",
     "text": [
      "{'Tibetan_mastiff', 'Chesapeake_Bay_retriever', 'Airedale', 'Chesapeake Bay Retriever', 'Mexican_hairless', 'Greyhound', 'Labrador_retriever', 'bloodhound', 'Norfolk_terrier', 'kelpie', 'Siberian_husky', 'Basenji', 'Dalmatian', 'Collie', 'Border_terrier', 'silky_terrier', 'dhole', 'saluki', 'pug', 'Chihuahua', 'Irish_wolfhound', 'Yorkshire_terrier', 'Belgian Laekenois', 'vizsla', 'Clamber spaniel', 'beagle', 'West_Highland_white_terrier', 'Flat Coated Retriever', 'Bull Terrier', 'Jack Russell', 'rhodesian ridgeback', 'Lakeland_terrier', 'portuguese water dog', 'Alaskan Malamute', 'Lhasa Apso', 'redbone', 'otterhound', 'Australian Shepherd', 'Australian_terrier', 'Bouvier De Flandres', 'Border Collie', 'Afghan Hound', 'Cocker spaniel', 'Japanese Spitz', 'Golden Retriever', 'soft-coated_wheaten_terrier', 'standard_poodle', 'Cairn Terrier', 'Boston_bull', 'Irish_terrier', 'Scottish Terrier', 'pyrenean mountain dog', 'American Cocker Spaniel', 'Iris Terrier', 'American_Staffordshire_terrier', 'German Sheperd', 'Newfoundland', 'Irish setter', 'Brabancon_griffon', 'Eskimo_dog', 'Fox hound', 'miniature_schnauzer', 'Boston Terrier', 'Shih Tzu', 'Bullmanstiff', 'keeshond', 'Afghan_hound', 'Bedlington Terrier', 'Maltese_dog', 'Leonberg', 'toy_terrier', 'toy_poodle', 'Deerhound', 'Dandie_Dinmont', 'Cavalier King Charles Spaniel', 'Appenzeller', 'Old_English_sheepdog', 'Rottwelier', 'Rottweiler', 'Saint_Bernard', 'Saluki', 'Welsh_springer_spaniel', 'komondor', 'Bloodhound', 'Weimaraner', 'Dachshund', 'malamute', 'English Springer Spaniel', 'Kerry_blue_terrier', 'cocker_spaniel', 'bull_mastiff', 'Lowchen', 'malinois', 'Irish Water Spaniel', 'Yorkipoo', 'curly-coated_retriever', 'bluetick', 'Airedale Terrier', 'Pomeranian', 'basenji', 'Bernese_mountain_dog', 'golden_retriever', 'Basset Fauve De Bretagne', 'Doberman', 'affenpinscher', 'saint bernard', 'miniature_pinscher', 'Hungarian Vizsla', 'Scotch_terrier', 'Schipperke', 'wire-haired_fox_terrier', 'Pembroke', 'English_foxhound', 'Walker_hound', 'Sealyham_terrier', 'cairn', 'Staffordshire_bullterrier', 'English_springer', 'Blenheim_spaniel', 'Shetland sheepdog', 'Bedlington_terrier', 'Basset Hound', 'briard', 'Bouvier_des_Flandres', 'Schnauzer', 'basset', 'groenendael', 'Fox terrier', 'Bearded Collie', 'Lhasa', 'Norwich_terrier', 'Irish_setter', 'Belgian Shepherd', 'Curly coated retriever', 'Brittany', 'American Akita', 'Poodle', 'Beagle', 'Rhodesian_ridgeback', 'Brittany_spaniel', 'Dandie Dinmont Terrier', 'Australian Cattle', 'whippet', 'Pekinese', 'Border_collie', 'chow', 'dingo', 'Bernese Mountain', 'Norwegian_elkhound', 'Shih-Tzu', 'Great_Dane', 'black-and-tan_coonhound', 'King Charles Spaniel', 'German_shepherd', 'Chowchow', 'Irish Wolfhound', 'Japanese_spaniel', 'Boxer', 'Chinese Crested', 'French_bulldog', 'miniature_poodle', 'Greater_Swiss_Mountain_dog', 'standard_schnauzer', 'papillon', 'British Bulldog', 'schipperke', 'borzoi', 'Sealyham terrier', 'dobermann', 'Ibizan_hound', 'Gordon_setter', 'boxer', 'Italian_greyhound', 'Labrador', 'Briard', 'Cardigan', 'Australian Terrier', 'EntleBucher', 'collie', 'Texas heeler', 'Shetland_sheepdog', 'Great_Pyrenees', 'Tibetan_terrier', 'Bichon Frise', 'German_short-haired_pointer', 'Sussex_spaniel', 'Affenpinscher', 'Irish_water_spaniel', 'english toy terrier', 'kuvasz', 'Keeshond', 'German Wirehaired Pointer', 'Gordon Setter', 'puli', 'Scottish_deerhound', 'flat-coated_retriever', 'Borzoi', 'German Short-Haired Pointer', 'giant_schnauzer', 'Douge De Bordeaux', 'Samoyed', 'Griffon Bruxellois', 'Shar pei', 'clumber', 'Australian Kelpie', 'Great Dane', 'English_setter', 'Australian Silky Terrier', 'finnish spitz', 'English Setter', 'Border Terrier', 'Field Spaniel', 'French bulldog', 'Italian Greyhound', 'Lakeland Terrier', 'African_hunting_dog'}\n",
      "216\n"
     ]
    }
   ],
   "source": [
    "unique_labels = set(all_labels)\n",
    "print(unique_labels)\n",
    "print(len(unique_labels))"
   ]
  },
  {
   "cell_type": "code",
   "execution_count": 15,
   "id": "4dda6b1a-10df-4235-bb80-15a0e5b43ca9",
   "metadata": {},
   "outputs": [],
   "source": [
    "assert len(stanford_unique_labels.intersection(unique_labels)) == len(stanford_unique_labels)\n",
    "assert len(roboflow_unique_labels.intersection(unique_labels)) == len(roboflow_unique_labels)"
   ]
  },
  {
   "cell_type": "code",
   "execution_count": 16,
   "id": "eca356db-688c-44bc-ab1c-3c503340a7b0",
   "metadata": {},
   "outputs": [
    {
     "name": "stdout",
     "output_type": "stream",
     "text": [
      "Directory '../data/opensource-dataset' already exists; export will be merged with existing files\n",
      " 100% |█████████████| 30529/30529 [21.0s elapsed, 0s remaining, 1.4K samples/s]       \n"
     ]
    }
   ],
   "source": [
    "merged_dataset.export(\n",
    "    export_dir=\"../data/opensource-dataset\",\n",
    "    dataset_type=fo.types.COCODetectionDataset,\n",
    ")"
   ]
  },
  {
   "cell_type": "markdown",
   "id": "72b71671-2dd5-4ea4-9e89-37ed9c9a85f6",
   "metadata": {},
   "source": [
    "## Clean space"
   ]
  },
  {
   "cell_type": "code",
   "execution_count": 17,
   "id": "b817ccbd-24ea-444d-95db-77788773ca42",
   "metadata": {},
   "outputs": [
    {
     "name": "stdout",
     "output_type": "stream",
     "text": [
      "Remove temp dirs\n"
     ]
    }
   ],
   "source": [
    "print('Remove temp dirs')\n",
    "\n",
    "shutil.rmtree(target_labels_dir.parent)"
   ]
  }
 ],
 "metadata": {
  "kernelspec": {
   "display_name": "Python 3 (ipykernel)",
   "language": "python",
   "name": "python3"
  },
  "language_info": {
   "codemirror_mode": {
    "name": "ipython",
    "version": 3
   },
   "file_extension": ".py",
   "mimetype": "text/x-python",
   "name": "python",
   "nbconvert_exporter": "python",
   "pygments_lexer": "ipython3",
   "version": "3.10.2"
  }
 },
 "nbformat": 4,
 "nbformat_minor": 5
}
